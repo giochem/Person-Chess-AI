{
 "cells": [
  {
   "cell_type": "code",
   "execution_count": 6,
   "id": "7567810c",
   "metadata": {},
   "outputs": [
    {
     "data": {
      "application/vnd.jupyter.widget-view+json": {
       "model_id": "280b1f8ef79f4a00bc2f8165fdbca3fc",
       "version_major": 2,
       "version_minor": 0
      },
      "text/plain": [
       "Dropdown(description='Test Case:', options=(\"Checkmate in 1 (Scholar's)\", 'Trap (Fried Liver setup)'), value=\"…"
      ]
     },
     "metadata": {},
     "output_type": "display_data"
    },
    {
     "data": {
      "application/vnd.jupyter.widget-view+json": {
       "model_id": "541377fc913a454db3382d3da6ab68b2",
       "version_major": 2,
       "version_minor": 0
      },
      "text/plain": [
       "Output()"
      ]
     },
     "metadata": {},
     "output_type": "display_data"
    }
   ],
   "source": [
    "import chess\n",
    "import chess.svg\n",
    "import ipywidgets as widgets\n",
    "from IPython.display import display, clear_output, HTML\n",
    "import time  # To see AI thinking time\n",
    "from nnue.minimax import MinimaxNNUE\n",
    "from knightvision.minimax_inter import KnightVision\n",
    "from pathlib import Path\n",
    "model_path =  \"./nnue/nnue_3_1978880d_512bs_200es_51e.pth\"\n",
    "# chessAI = MinimaxNNUE(depth=3, path_file=str(model_path))\n",
    "chessAI = KnightVision(time_limit=2.0)\n",
    "test_cases = [\n",
    "    # Checkmate/Tactics Cases\n",
    "    {\"name\": \"Checkmate in 1 (Scholar's)\", \"fen\": \"rnbqkbnr/p1pppppp/8/8/1pB1P3/5Q2/PPPP1PPP/RNB1K1NR w KQkq - 0 4\"},\n",
    "    {\"name\": \"Trap (Fried Liver setup)\", \"fen\": \"r1bqkb1r/pppp1ppp/2n2n2/4p2Q/2B1P3/8/PPPP1PPP/RNB1K1NR w KQkq - 4 4\"}\n",
    "]\n",
    "\n",
    "def display_svg_board(board, size=300): # Reduced size for side-by-side\n",
    "    \"\"\"Displays a chessboard using SVG.\"\"\"\n",
    "    return chess.svg.board(board, size=size)\n",
    "\n",
    "# Dropdown to select the test case\n",
    "test_case_names = [tc[\"name\"] for tc in test_cases]\n",
    "dropdown = widgets.Dropdown(\n",
    "    options=test_case_names,\n",
    "    description='Test Case:',\n",
    "    disabled=False,\n",
    ")\n",
    "\n",
    "# Output area to display the boards and information\n",
    "output_area = widgets.Output()\n",
    "\n",
    "def on_dropdown_change(change):\n",
    "    \"\"\"This function runs when the dropdown value changes.\"\"\"\n",
    "    with output_area: # Direct output to the output_area widget\n",
    "        clear_output(wait=True) # Clear previous output smoothly\n",
    "\n",
    "        selected_name = change['new']\n",
    "        selected_case = next((tc for tc in test_cases if tc[\"name\"] == selected_name), None)\n",
    "\n",
    "        if not selected_case:\n",
    "            print(f\"Error: Test case '{selected_name}' not found.\")\n",
    "            return\n",
    "\n",
    "        fen = selected_case[\"fen\"]\n",
    "        initial_board = chess.Board(fen)\n",
    "\n",
    "        display(HTML(f\"<h3>Test Case: {selected_name}</h3>\"))\n",
    "        display(HTML(f\"<b>Initial FEN:</b> {fen}\"))\n",
    "\n",
    "        # --- Run the AI ---\n",
    "        display(HTML(\"<p><i>Running AI...</i></p>\"))\n",
    "        start_time = time.time()\n",
    "        try:\n",
    "            best_move = chessAI.find_best_move(initial_board)\n",
    "            end_time = time.time()\n",
    "            duration = end_time - start_time\n",
    "            display(HTML(f\"<p><i>AI finished in {duration:.2f} seconds.</i></p>\"))\n",
    "\n",
    "            if initial_board.is_game_over():\n",
    "                display(HTML(f\"<b>Game is already over: {initial_board.result()}</b>\"))\n",
    "                best_move = None # No move to make if game is over\n",
    "\n",
    "            elif best_move:\n",
    "                # Check if the move is legal before applying\n",
    "                if best_move in initial_board.legal_moves:\n",
    "                    ai_board = initial_board.copy() # Create a copy to apply the move\n",
    "                    ai_board.push(best_move) # Apply the move\n",
    "\n",
    "                    # Display initial and final boards side-by-side using HTML table\n",
    "                    board_display = f\"\"\"\n",
    "                    <table>\n",
    "                        <tr>\n",
    "                            <td style=\"text-align: center;\"><b>Initial Board:</b><br>{display_svg_board(initial_board)}</td>\n",
    "                            <td style=\"text-align: center;\"><b>AI Move:</b> {initial_board.san(best_move)} ({best_move.uci()})<br><b>Board After AI Move:</b><br>{display_svg_board(ai_board)}</td>\n",
    "                        </tr>\n",
    "                    </table>\n",
    "                    \"\"\"\n",
    "                    display(HTML(board_display))\n",
    "                    display(HTML(f\"<b>FEN After Move:</b> {ai_board.fen()}\"))\n",
    "\n",
    "                    if ai_board.is_checkmate():\n",
    "                        display(HTML(\"<b style='color:red;'>CHECKMATE!</b>\"))\n",
    "                    elif ai_board.is_stalemate():\n",
    "                        display(HTML(\"<b style='color:orange;'>STALEMATE!</b>\"))\n",
    "                    elif ai_board.is_insufficient_material():\n",
    "                        display(HTML(\"<b style='color:grey;'>INSUFFICIENT MATERIAL!</b>\"))\n",
    "                    elif ai_board.is_check():\n",
    "                        display(HTML(\"<b style='color:blue;'>CHECK!</b>\"))\n",
    "\n",
    "                else:\n",
    "                    display(HTML(f\"<b style='color:red;'>Error: AI proposed an illegal move: {best_move.uci()}</b>\"))\n",
    "                    # Optionally display legal moves for debugging:\n",
    "                    # display(HTML(f\"Legal moves were: {', '.join(m.uci() for m in board.legal_moves)}\"))\n",
    "\n",
    "            else:\n",
    "                display(HTML(\"<b style='color:orange;'>AI found no move (or decided not to move?).</b>\"))\n",
    "                if initial_board.is_stalemate():\n",
    "                    display(HTML(\"<b style='color:orange;'>Reason: STALEMATE!</b>\"))\n",
    "                elif initial_board.is_checkmate(): # Should technically not happen if no move found, but good check\n",
    "                    display(HTML(\"<b style='color:red;'>Reason: CHECKMATE!</b>\"))\n",
    "\n",
    "\n",
    "        except Exception as e:\n",
    "            display(HTML(f\"<b style='color:red;'>Error during AI execution: {e}</b>\"))\n",
    "\n",
    "        display(HTML(\"<hr>\")) # Separator\n",
    "\n",
    "dropdown.observe(on_dropdown_change, names='value')\n",
    "\n",
    "display(dropdown)\n",
    "display(output_area)\n",
    "\n",
    "# Trigger the display for the initial dropdown value\n",
    "on_dropdown_change({'new': dropdown.value})"
   ]
  }
 ],
 "metadata": {
  "kernelspec": {
   "display_name": ".env",
   "language": "python",
   "name": "python3"
  },
  "language_info": {
   "codemirror_mode": {
    "name": "ipython",
    "version": 3
   },
   "file_extension": ".py",
   "mimetype": "text/x-python",
   "name": "python",
   "nbconvert_exporter": "python",
   "pygments_lexer": "ipython3",
   "version": "3.11.0"
  }
 },
 "nbformat": 4,
 "nbformat_minor": 5
}
