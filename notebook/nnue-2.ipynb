{
 "cells": [
  {
   "cell_type": "markdown",
   "metadata": {},
   "source": [
    "# NNUE for Chess AI (Sparse Feature Version)\n",
    "\n",
    "This notebook implements an **Efficiently Updatable Neural Network (NNUE)** to evaluate chess positions using a sparse feature representation. The model is trained on a dataset of chess positions in FEN format and their corresponding evaluations, leveraging PyTorch for neural network operations. The goal is to provide a clean, readable, and well-documented implementation with an interactive UI for parameter adjustment.\n",
    "\n",
    "Reference documentation: [NNUE PyTorch Docs](https://github.com/official-stockfish/nnue-pytorch/blob/master/docs/nnue.md)"
   ]
  },
  {
   "cell_type": "markdown",
   "metadata": {},
   "source": [
    "## 1. Setup"
   ]
  },
  {
   "cell_type": "code",
   "execution_count": 4,
   "metadata": {
    "trusted": true
   },
   "outputs": [],
   "source": [
    "# %pip install chess"
   ]
  },
  {
   "cell_type": "code",
   "execution_count": 8,
   "metadata": {
    "trusted": true
   },
   "outputs": [
    {
     "data": {
      "text/plain": [
       "<torch._C.Generator at 0x1f77e656310>"
      ]
     },
     "execution_count": 8,
     "metadata": {},
     "output_type": "execute_result"
    }
   ],
   "source": [
    "import torch\n",
    "import torch.nn as nn\n",
    "import torch.optim as optim\n",
    "from torch.utils.data import Dataset, DataLoader\n",
    "import pandas as pd\n",
    "from sklearn.model_selection import train_test_split\n",
    "import chess\n",
    "from torch.utils.tensorboard import SummaryWriter\n",
    "import ipywidgets as widgets\n",
    "from IPython.display import display\n",
    "import time\n",
    "import os\n",
    "# Set random seed for reproducibility\n",
    "torch.manual_seed(42)"
   ]
  },
  {
   "cell_type": "markdown",
   "metadata": {},
   "source": [
    "## 3. Data Loading\n",
    "\n",
    "We load the chess dataset from a CSV file containing FEN strings and their evaluations."
   ]
  },
  {
   "cell_type": "code",
   "execution_count": 9,
   "metadata": {
    "trusted": true
   },
   "outputs": [
    {
     "name": "stdout",
     "output_type": "stream",
     "text": [
      "Original shape: (1979383, 2)\n",
      "Used shape: (10, 2)\n"
     ]
    }
   ],
   "source": [
    "# Load the CSV data (adjust the path as needed)\n",
    "df = pd.read_csv('../assets/chess-data/fen/train.csv')\n",
    "print('Original shape:', df.shape)\n",
    "\n",
    "# Limit the dataset size for faster experimentation (optional)\n",
    "df = df[:10]\n",
    "print('Used shape:', df.shape)\n",
    "\n",
    "# Extract FENs and evaluations\n",
    "fens = df['FEN'].tolist()\n",
    "targets = df['Evaluation'].tolist()"
   ]
  },
  {
   "cell_type": "markdown",
   "metadata": {},
   "source": [
    "## 4. Data Preprocessing\n",
    "\n",
    "We convert FEN strings into sparse feature indices representing piece positions for white and black, along with the side to move."
   ]
  },
  {
   "cell_type": "code",
   "execution_count": 10,
   "metadata": {
    "trusted": true
   },
   "outputs": [],
   "source": [
    "def get_feature_index(color, piece_type, square):\n",
    "    \"\"\"Calculate a unique feature index for a piece on a square.\n",
    "    \n",
    "    Args:\n",
    "        color (int): 0 for white, 1 for black.\n",
    "        piece_type (int): 0 (pawn) to 5 (king).\n",
    "        square (int): 0 to 63 (board square index).\n",
    "    \n",
    "    Returns:\n",
    "        int: Feature index (0-767).\n",
    "    \"\"\"\n",
    "    return (color * 6 + piece_type) * 64 + square\n",
    "\n",
    "def preprocess_position(fen):\n",
    "    \"\"\"Convert a FEN string to sparse feature indices and side-to-move indicator.\n",
    "    \n",
    "    Args:\n",
    "        fen (str): FEN string representing a chess position.\n",
    "    \n",
    "    Returns:\n",
    "        tuple: (white_features, black_features, side_to_move)\n",
    "            - white_features: List of feature indices for white pieces (0-383).\n",
    "            - black_features: List of feature indices for black pieces (384-767).\n",
    "            - side_to_move: 1 if white to move, 0 if black to move.\n",
    "    \"\"\"\n",
    "    board = chess.Board(fen)\n",
    "    features = []\n",
    "    \n",
    "    # Extract features for each piece on the board\n",
    "    for square in chess.SQUARES:\n",
    "        piece = board.piece_at(square)\n",
    "        if piece is not None:\n",
    "            color = 0 if piece.color == chess.WHITE else 1\n",
    "            piece_type = piece.piece_type - 1  # Map 1-6 (pawn-king) to 0-5\n",
    "            feature_index = get_feature_index(color, piece_type, square)\n",
    "            features.append(feature_index)\n",
    "    \n",
    "    # Split features by color\n",
    "    features_white = [f for f in features if f < 384]  # White pieces: indices 0-383\n",
    "    features_black = [f for f in features if f >= 384]  # Black pieces: indices 384-767\n",
    "    \n",
    "    # Side to move indicator\n",
    "    side_to_move = 1 if board.turn == chess.WHITE else 0\n",
    "    \n",
    "    return features_white, features_black, side_to_move"
   ]
  },
  {
   "cell_type": "markdown",
   "metadata": {},
   "source": [
    "### Explanation\n",
    "- **Feature Indexing**: Each piece on a square is assigned a unique index from 0 to 767. White pieces occupy 0-383, and black pieces occupy 384-767.\n",
    "- **Preprocessing**: The `preprocess_position` function parses a FEN string, identifies pieces on the board, computes their feature indices, and separates them by color. It also determines the side to move."
   ]
  },
  {
   "cell_type": "markdown",
   "metadata": {},
   "source": [
    "## 5. Dataset and DataLoader\n",
    "\n",
    "We define a custom dataset class and a collate function to handle variable-length feature lists in batches."
   ]
  },
  {
   "cell_type": "code",
   "execution_count": 38,
   "metadata": {
    "trusted": true
   },
   "outputs": [],
   "source": [
    "class ChessDataset(Dataset):\n",
    "    \"\"\"Custom dataset for chess positions and evaluations.\"\"\"\n",
    "    def __init__(self, fens, targets):\n",
    "        self.fens = fens\n",
    "        self.targets = targets\n",
    "    \n",
    "    def __len__(self):\n",
    "        return len(self.fens)\n",
    "    \n",
    "    def __getitem__(self, idx):\n",
    "        fen = self.fens[idx]\n",
    "        target = self.targets[idx]\n",
    "        fw, fb, stm = preprocess_position(fen)\n",
    "        return fw, fb, stm, target\n",
    "\n",
    "def collate_fn(batch):\n",
    "    \"\"\"Collate function to process batches with variable-length feature lists.\n",
    "    \n",
    "    Args:\n",
    "        batch: List of (features_white, features_black, side_to_move, target) tuples.\n",
    "    \n",
    "    Returns:\n",
    "        tuple: Tensors for white features, white offsets, black features, black offsets,\n",
    "               side to move, and targets.\n",
    "    \"\"\"\n",
    "    features_white, features_black, side_to_move, targets = [], [], [], []\n",
    "    for fw, fb, stm, t in batch:\n",
    "        features_white.extend(fw)\n",
    "        features_black.extend(fb)\n",
    "        side_to_move.append(stm)\n",
    "        targets.append(t)\n",
    "    \n",
    "    # Convert lists to tensors\n",
    "    fw_tensor = torch.tensor(features_white, dtype=torch.long)\n",
    "    fb_tensor = torch.tensor(features_black, dtype=torch.long)\n",
    "    offsets_white = torch.tensor([0] + [len(fw) for fw, _, _, _ in batch[:-1]], dtype=torch.long).cumsum(0)\n",
    "    offsets_black = torch.tensor([0] + [len(fb) for _, fb, _, _ in batch[:-1]], dtype=torch.long).cumsum(0)\n",
    "    stm_tensor = torch.tensor(side_to_move, dtype=torch.long)\n",
    "    target_tensor = torch.tensor(targets, dtype=torch.float)\n",
    "\n",
    "    print(batch)\n",
    "    return fw_tensor, offsets_white, fb_tensor, offsets_black, stm_tensor, target_tensor"
   ]
  },
  {
   "cell_type": "markdown",
   "metadata": {},
   "source": [
    "### Explanation\n",
    "- **ChessDataset**: A custom PyTorch dataset that returns preprocessed features (white and black indices, side to move) and the evaluation target for each FEN string.\n",
    "- **collate_fn**: Combines variable-length feature lists into tensors suitable for batch processing. Offsets track the start of each position’s features within the concatenated tensors."
   ]
  },
  {
   "cell_type": "markdown",
   "metadata": {},
   "source": [
    "## 6. Data Splitting and Loading"
   ]
  },
  {
   "cell_type": "code",
   "execution_count": 39,
   "metadata": {
    "trusted": true
   },
   "outputs": [],
   "source": [
    "# Extract parameter values from sliders\n",
    "BATCH_SIZE = 3\n",
    "NUM_EPOCHS = 500\n",
    "\n",
    "# Split the data into training and testing sets\n",
    "X_train, X_test, y_train, y_test = train_test_split(\n",
    "    fens, targets, test_size=0.2, random_state=42\n",
    ")\n",
    "# Create datasets\n",
    "train_dataset = ChessDataset(X_train, y_train)\n",
    "test_dataset = ChessDataset(X_test, y_test)\n",
    "\n",
    "# Create DataLoaders\n",
    "train_loader = DataLoader(train_dataset, batch_size=BATCH_SIZE, collate_fn=collate_fn, shuffle=True)\n",
    "test_loader = DataLoader(test_dataset, batch_size=BATCH_SIZE, collate_fn=collate_fn, shuffle=False)"
   ]
  },
  {
   "cell_type": "markdown",
   "metadata": {},
   "source": [
    "### Explanation\n",
    "- **Splitting**: The dataset is divided into 80% training and 20% testing sets with a fixed random seed for reproducibility.\n",
    "- **DataLoaders**: Batches are created with the size specified by the UI slider. The training loader shuffles data for better generalization."
   ]
  },
  {
   "cell_type": "markdown",
   "metadata": {},
   "source": [
    "## 7. Model Definition\n",
    "\n",
    "We define the NNUE model using an `EmbeddingBag` layer for sparse features and fully connected layers for evaluation."
   ]
  },
  {
   "cell_type": "code",
   "execution_count": 10,
   "metadata": {
    "trusted": true
   },
   "outputs": [],
   "source": [
    "class NNUE(nn.Module):\n",
    "    \"\"\"Efficiently Updatable Neural Network for chess position evaluation.\n",
    "    \n",
    "    Args:\n",
    "        num_features (int): Total number of possible features (768).\n",
    "        hidden_size (int): Size of the embedding output (256).\n",
    "        hidden_size2 (int): Size of the first hidden layer (32).\n",
    "        hidden_size3 (int): Size of the second hidden layer (32).\n",
    "    \"\"\"\n",
    "    def __init__(self, num_features=768, hidden_size=256, hidden_size2=32, hidden_size3=32):\n",
    "        super(NNUE, self).__init__()\n",
    "        self.embedding = nn.EmbeddingBag(num_features, hidden_size, mode='sum')\n",
    "        self.fc1 = nn.Linear(2 * hidden_size, hidden_size2)\n",
    "        self.fc2 = nn.Linear(hidden_size2, hidden_size3)\n",
    "        self.fc3 = nn.Linear(hidden_size3, 1)\n",
    "    \n",
    "    def forward(self, features_white, offsets_white, features_black, offsets_black, side_to_move):\n",
    "        \"\"\"Forward pass to compute the evaluation score.\n",
    "        \n",
    "        Args:\n",
    "            features_white (Tensor): Indices of white piece features.\n",
    "            offsets_white (Tensor): Offsets for white features in the batch.\n",
    "            features_black (Tensor): Indices of black piece features.\n",
    "            offsets_black (Tensor): Offsets for black features in the batch.\n",
    "            side_to_move (Tensor): 1 if white to move, 0 if black to move.\n",
    "        \n",
    "        Returns:\n",
    "            Tensor: Predicted evaluation score for each position in the batch.\n",
    "        \"\"\"\n",
    "        # Sum embeddings for white and black pieces\n",
    "        white_sum = self.embedding(features_white, offsets_white)  # Shape: (batch_size, hidden_size)\n",
    "        black_sum = self.embedding(features_black, offsets_black)  # Shape: (batch_size, hidden_size)\n",
    "        \n",
    "        # Assign \"us\" and \"them\" based on side to move\n",
    "        side_to_move = side_to_move.bool()\n",
    "        us_sum = torch.where(side_to_move[:, None], white_sum, black_sum)\n",
    "        them_sum = torch.where(side_to_move[:, None], black_sum, white_sum)\n",
    "        \n",
    "        # Concatenate features and pass through fully connected layers\n",
    "        input_vector = torch.cat([us_sum, them_sum], dim=1)  # Shape: (batch_size, 2 * hidden_size)\n",
    "        x = torch.clamp(self.fc1(input_vector), 0, 1)  # Clipped ReLU: [0, 1]\n",
    "        x = torch.clamp(self.fc2(x), 0, 1)\n",
    "        output = self.fc3(x)  # Linear output\n",
    "        return output"
   ]
  },
  {
   "cell_type": "markdown",
   "metadata": {},
   "source": [
    "### Explanation\n",
    "- **EmbeddingBag**: Efficiently computes the sum of embeddings for active features (piece positions) per side.\n",
    "- **Forward Pass**: Combines white and black embeddings based on the side to move, concatenates them, and processes them through three fully connected layers with clipped ReLU activations (except the final layer)."
   ]
  },
  {
   "cell_type": "markdown",
   "metadata": {},
   "source": [
    "## 8. Training Setup"
   ]
  },
  {
   "cell_type": "code",
   "execution_count": null,
   "metadata": {
    "trusted": true
   },
   "outputs": [],
   "source": [
    "# Initialize the model, optimizer, loss function, and TensorBoard writer\n",
    "model = NNUE()\n",
    "optimizer = optim.Adam(model.parameters(), lr=0.001)\n",
    "criterion = nn.MSELoss()\n",
    "writer = SummaryWriter('runs/nnue_2_experiment')\n",
    "os.makedirs('checkpoint',exist_ok=True)"
   ]
  },
  {
   "cell_type": "markdown",
   "metadata": {},
   "source": [
    "## 9. Training Loop and Evaluation"
   ]
  },
  {
   "cell_type": "code",
   "execution_count": null,
   "metadata": {
    "trusted": true
   },
   "outputs": [],
   "source": [
    "# Training loop with validation and parameter monitoring\n",
    "best_val_loss = float('inf')  # For tracking the best validation loss\n",
    "patience = 10  # For early stopping\n",
    "patience_counter = 0\n",
    "\n",
    "for epoch in range(NUM_EPOCHS):\n",
    "    start_time = time.time()\n",
    "    \n",
    "    # Training phase\n",
    "    model.train()  # Set model to training mode\n",
    "    train_loss = 0.0\n",
    "    for batch in train_loader:\n",
    "        fw, ow, fb, ob, stm, targets = batch\n",
    "        optimizer.zero_grad()  # Clear previous gradients\n",
    "        outputs = model(fw, ow, fb, ob, stm)  # Forward pass\n",
    "        loss = criterion(outputs.squeeze(), targets)  # Compute loss\n",
    "        loss.backward()  # Backpropagation\n",
    "        \n",
    "        # Gradient clipping to prevent exploding gradients\n",
    "        torch.nn.utils.clip_grad_norm_(model.parameters(), max_norm=1.0)\n",
    "        optimizer.step()  # Update weights\n",
    "        train_loss += loss.item()  # Accumulate loss\n",
    "    \n",
    "    # Compute and log average training loss\n",
    "    avg_train_loss = train_loss / len(train_loader)\n",
    "    writer.add_scalar('Loss/train', avg_train_loss, epoch)\n",
    "    \n",
    "    # Validation phase\n",
    "    model.eval()  # Set model to evaluation mode\n",
    "    val_loss = 0.0\n",
    "    with torch.no_grad():\n",
    "        for batch in test_loader:  # Assuming test_loader is your validation set\n",
    "            fw, ow, fb, ob, stm, targets = batch\n",
    "            outputs = model(fw, ow, fb, ob, stm)\n",
    "            loss = criterion(outputs.squeeze(), targets)\n",
    "            val_loss += loss.item()\n",
    "    avg_val_loss = val_loss / len(test_loader)\n",
    "    writer.add_scalar('Loss/val', avg_val_loss, epoch)\n",
    "    \n",
    "    # Log model parameters and gradients (every 5 epochs)\n",
    "    if (epoch + 1) % 5 == 0:\n",
    "        for name, param in model.named_parameters():\n",
    "            writer.add_histogram(name, param, epoch)\n",
    "            if param.grad is not None:\n",
    "                writer.add_histogram(f\"{name}/grad\", param.grad, epoch)\n",
    "    \n",
    "    # Save model checkpoint if validation loss improves\n",
    "    if avg_val_loss < best_val_loss:\n",
    "        best_val_loss = avg_val_loss\n",
    "        torch.save(model.state_dict(), './checkpoint/nnue_2_512bs_2000epochs.pth')\n",
    "        patience_counter = 0  # Reset patience\n",
    "    else:\n",
    "        patience_counter += 1\n",
    "    \n",
    "    # Early stopping\n",
    "    if patience_counter >= patience:\n",
    "        print(f\"Early stopping triggered after {epoch+1} epochs.\")\n",
    "        break\n",
    "    \n",
    "    end_time = time.time()\n",
    "    print(f\"Epoch [{epoch+1}/{NUM_EPOCHS}], Train Loss: {avg_train_loss:.4f}, Val Loss: {avg_val_loss:.4f}, Time: {round(end_time - start_time)} s\")\n",
    "\n",
    "writer.close()"
   ]
  },
  {
   "cell_type": "code",
   "execution_count": 3,
   "metadata": {},
   "outputs": [
    {
     "name": "stdout",
     "output_type": "stream",
     "text": [
      "Evaluating position: rnbqkbnr/pppppppp/5n2/8/8/5N2/PPPPPPPP/RNBQKB1R w KQkq - 0 1\n"
     ]
    },
    {
     "ename": "ValueError",
     "evalue": "if input is 2D, then offsets has to be None, as input is treated is a mini-batch of fixed length sequences. However, found offsets of type <class 'torch.Tensor'>",
     "output_type": "error",
     "traceback": [
      "\u001b[1;31m---------------------------------------------------------------------------\u001b[0m",
      "\u001b[1;31mValueError\u001b[0m                                Traceback (most recent call last)",
      "Cell \u001b[1;32mIn[3], line 98\u001b[0m\n\u001b[0;32m     96\u001b[0m \u001b[38;5;66;03m# Run the model\u001b[39;00m\n\u001b[0;32m     97\u001b[0m \u001b[38;5;28;01mwith\u001b[39;00m torch\u001b[38;5;241m.\u001b[39mno_grad():\n\u001b[1;32m---> 98\u001b[0m     output \u001b[38;5;241m=\u001b[39m \u001b[43mmodel\u001b[49m\u001b[43m(\u001b[49m\u001b[43mfw_tensor\u001b[49m\u001b[43m,\u001b[49m\u001b[43m \u001b[49m\u001b[43moffsets_white\u001b[49m\u001b[43m,\u001b[49m\u001b[43m \u001b[49m\u001b[43mfb_tensor\u001b[49m\u001b[43m,\u001b[49m\u001b[43m \u001b[49m\u001b[43moffsets_black\u001b[49m\u001b[43m,\u001b[49m\u001b[43m \u001b[49m\u001b[43mstm_tensor\u001b[49m\u001b[43m)\u001b[49m\n\u001b[0;32m    100\u001b[0m \u001b[38;5;66;03m# Print the result\u001b[39;00m\n\u001b[0;32m    101\u001b[0m evaluation \u001b[38;5;241m=\u001b[39m output\u001b[38;5;241m.\u001b[39mitem()\n",
      "File \u001b[1;32md:\\Person+chess-ai\\.env\\Lib\\site-packages\\torch\\nn\\modules\\module.py:1739\u001b[0m, in \u001b[0;36mModule._wrapped_call_impl\u001b[1;34m(self, *args, **kwargs)\u001b[0m\n\u001b[0;32m   1737\u001b[0m     \u001b[38;5;28;01mreturn\u001b[39;00m \u001b[38;5;28mself\u001b[39m\u001b[38;5;241m.\u001b[39m_compiled_call_impl(\u001b[38;5;241m*\u001b[39margs, \u001b[38;5;241m*\u001b[39m\u001b[38;5;241m*\u001b[39mkwargs)  \u001b[38;5;66;03m# type: ignore[misc]\u001b[39;00m\n\u001b[0;32m   1738\u001b[0m \u001b[38;5;28;01melse\u001b[39;00m:\n\u001b[1;32m-> 1739\u001b[0m     \u001b[38;5;28;01mreturn\u001b[39;00m \u001b[38;5;28;43mself\u001b[39;49m\u001b[38;5;241;43m.\u001b[39;49m\u001b[43m_call_impl\u001b[49m\u001b[43m(\u001b[49m\u001b[38;5;241;43m*\u001b[39;49m\u001b[43margs\u001b[49m\u001b[43m,\u001b[49m\u001b[43m \u001b[49m\u001b[38;5;241;43m*\u001b[39;49m\u001b[38;5;241;43m*\u001b[39;49m\u001b[43mkwargs\u001b[49m\u001b[43m)\u001b[49m\n",
      "File \u001b[1;32md:\\Person+chess-ai\\.env\\Lib\\site-packages\\torch\\nn\\modules\\module.py:1750\u001b[0m, in \u001b[0;36mModule._call_impl\u001b[1;34m(self, *args, **kwargs)\u001b[0m\n\u001b[0;32m   1745\u001b[0m \u001b[38;5;66;03m# If we don't have any hooks, we want to skip the rest of the logic in\u001b[39;00m\n\u001b[0;32m   1746\u001b[0m \u001b[38;5;66;03m# this function, and just call forward.\u001b[39;00m\n\u001b[0;32m   1747\u001b[0m \u001b[38;5;28;01mif\u001b[39;00m \u001b[38;5;129;01mnot\u001b[39;00m (\u001b[38;5;28mself\u001b[39m\u001b[38;5;241m.\u001b[39m_backward_hooks \u001b[38;5;129;01mor\u001b[39;00m \u001b[38;5;28mself\u001b[39m\u001b[38;5;241m.\u001b[39m_backward_pre_hooks \u001b[38;5;129;01mor\u001b[39;00m \u001b[38;5;28mself\u001b[39m\u001b[38;5;241m.\u001b[39m_forward_hooks \u001b[38;5;129;01mor\u001b[39;00m \u001b[38;5;28mself\u001b[39m\u001b[38;5;241m.\u001b[39m_forward_pre_hooks\n\u001b[0;32m   1748\u001b[0m         \u001b[38;5;129;01mor\u001b[39;00m _global_backward_pre_hooks \u001b[38;5;129;01mor\u001b[39;00m _global_backward_hooks\n\u001b[0;32m   1749\u001b[0m         \u001b[38;5;129;01mor\u001b[39;00m _global_forward_hooks \u001b[38;5;129;01mor\u001b[39;00m _global_forward_pre_hooks):\n\u001b[1;32m-> 1750\u001b[0m     \u001b[38;5;28;01mreturn\u001b[39;00m \u001b[43mforward_call\u001b[49m\u001b[43m(\u001b[49m\u001b[38;5;241;43m*\u001b[39;49m\u001b[43margs\u001b[49m\u001b[43m,\u001b[49m\u001b[43m \u001b[49m\u001b[38;5;241;43m*\u001b[39;49m\u001b[38;5;241;43m*\u001b[39;49m\u001b[43mkwargs\u001b[49m\u001b[43m)\u001b[49m\n\u001b[0;32m   1752\u001b[0m result \u001b[38;5;241m=\u001b[39m \u001b[38;5;28;01mNone\u001b[39;00m\n\u001b[0;32m   1753\u001b[0m called_always_called_hooks \u001b[38;5;241m=\u001b[39m \u001b[38;5;28mset\u001b[39m()\n",
      "Cell \u001b[1;32mIn[3], line 15\u001b[0m, in \u001b[0;36mNNUE.forward\u001b[1;34m(self, features_white, offsets_white, features_black, offsets_black, side_to_move)\u001b[0m\n\u001b[0;32m     14\u001b[0m \u001b[38;5;28;01mdef\u001b[39;00m\u001b[38;5;250m \u001b[39m\u001b[38;5;21mforward\u001b[39m(\u001b[38;5;28mself\u001b[39m, features_white, offsets_white, features_black, offsets_black, side_to_move):\n\u001b[1;32m---> 15\u001b[0m     white_sum \u001b[38;5;241m=\u001b[39m \u001b[38;5;28;43mself\u001b[39;49m\u001b[38;5;241;43m.\u001b[39;49m\u001b[43membedding\u001b[49m\u001b[43m(\u001b[49m\u001b[43mfeatures_white\u001b[49m\u001b[43m,\u001b[49m\u001b[43m \u001b[49m\u001b[43moffsets_white\u001b[49m\u001b[43m)\u001b[49m\n\u001b[0;32m     16\u001b[0m     black_sum \u001b[38;5;241m=\u001b[39m \u001b[38;5;28mself\u001b[39m\u001b[38;5;241m.\u001b[39membedding(features_black, offsets_black)\n\u001b[0;32m     18\u001b[0m     side_to_move \u001b[38;5;241m=\u001b[39m side_to_move\u001b[38;5;241m.\u001b[39mbool()\n",
      "File \u001b[1;32md:\\Person+chess-ai\\.env\\Lib\\site-packages\\torch\\nn\\modules\\module.py:1739\u001b[0m, in \u001b[0;36mModule._wrapped_call_impl\u001b[1;34m(self, *args, **kwargs)\u001b[0m\n\u001b[0;32m   1737\u001b[0m     \u001b[38;5;28;01mreturn\u001b[39;00m \u001b[38;5;28mself\u001b[39m\u001b[38;5;241m.\u001b[39m_compiled_call_impl(\u001b[38;5;241m*\u001b[39margs, \u001b[38;5;241m*\u001b[39m\u001b[38;5;241m*\u001b[39mkwargs)  \u001b[38;5;66;03m# type: ignore[misc]\u001b[39;00m\n\u001b[0;32m   1738\u001b[0m \u001b[38;5;28;01melse\u001b[39;00m:\n\u001b[1;32m-> 1739\u001b[0m     \u001b[38;5;28;01mreturn\u001b[39;00m \u001b[38;5;28;43mself\u001b[39;49m\u001b[38;5;241;43m.\u001b[39;49m\u001b[43m_call_impl\u001b[49m\u001b[43m(\u001b[49m\u001b[38;5;241;43m*\u001b[39;49m\u001b[43margs\u001b[49m\u001b[43m,\u001b[49m\u001b[43m \u001b[49m\u001b[38;5;241;43m*\u001b[39;49m\u001b[38;5;241;43m*\u001b[39;49m\u001b[43mkwargs\u001b[49m\u001b[43m)\u001b[49m\n",
      "File \u001b[1;32md:\\Person+chess-ai\\.env\\Lib\\site-packages\\torch\\nn\\modules\\module.py:1750\u001b[0m, in \u001b[0;36mModule._call_impl\u001b[1;34m(self, *args, **kwargs)\u001b[0m\n\u001b[0;32m   1745\u001b[0m \u001b[38;5;66;03m# If we don't have any hooks, we want to skip the rest of the logic in\u001b[39;00m\n\u001b[0;32m   1746\u001b[0m \u001b[38;5;66;03m# this function, and just call forward.\u001b[39;00m\n\u001b[0;32m   1747\u001b[0m \u001b[38;5;28;01mif\u001b[39;00m \u001b[38;5;129;01mnot\u001b[39;00m (\u001b[38;5;28mself\u001b[39m\u001b[38;5;241m.\u001b[39m_backward_hooks \u001b[38;5;129;01mor\u001b[39;00m \u001b[38;5;28mself\u001b[39m\u001b[38;5;241m.\u001b[39m_backward_pre_hooks \u001b[38;5;129;01mor\u001b[39;00m \u001b[38;5;28mself\u001b[39m\u001b[38;5;241m.\u001b[39m_forward_hooks \u001b[38;5;129;01mor\u001b[39;00m \u001b[38;5;28mself\u001b[39m\u001b[38;5;241m.\u001b[39m_forward_pre_hooks\n\u001b[0;32m   1748\u001b[0m         \u001b[38;5;129;01mor\u001b[39;00m _global_backward_pre_hooks \u001b[38;5;129;01mor\u001b[39;00m _global_backward_hooks\n\u001b[0;32m   1749\u001b[0m         \u001b[38;5;129;01mor\u001b[39;00m _global_forward_hooks \u001b[38;5;129;01mor\u001b[39;00m _global_forward_pre_hooks):\n\u001b[1;32m-> 1750\u001b[0m     \u001b[38;5;28;01mreturn\u001b[39;00m \u001b[43mforward_call\u001b[49m\u001b[43m(\u001b[49m\u001b[38;5;241;43m*\u001b[39;49m\u001b[43margs\u001b[49m\u001b[43m,\u001b[49m\u001b[43m \u001b[49m\u001b[38;5;241;43m*\u001b[39;49m\u001b[38;5;241;43m*\u001b[39;49m\u001b[43mkwargs\u001b[49m\u001b[43m)\u001b[49m\n\u001b[0;32m   1752\u001b[0m result \u001b[38;5;241m=\u001b[39m \u001b[38;5;28;01mNone\u001b[39;00m\n\u001b[0;32m   1753\u001b[0m called_always_called_hooks \u001b[38;5;241m=\u001b[39m \u001b[38;5;28mset\u001b[39m()\n",
      "File \u001b[1;32md:\\Person+chess-ai\\.env\\Lib\\site-packages\\torch\\nn\\modules\\sparse.py:463\u001b[0m, in \u001b[0;36mEmbeddingBag.forward\u001b[1;34m(self, input, offsets, per_sample_weights)\u001b[0m\n\u001b[0;32m    427\u001b[0m \u001b[38;5;28;01mdef\u001b[39;00m\u001b[38;5;250m \u001b[39m\u001b[38;5;21mforward\u001b[39m(\n\u001b[0;32m    428\u001b[0m     \u001b[38;5;28mself\u001b[39m,\n\u001b[0;32m    429\u001b[0m     \u001b[38;5;28minput\u001b[39m: Tensor,\n\u001b[0;32m    430\u001b[0m     offsets: Optional[Tensor] \u001b[38;5;241m=\u001b[39m \u001b[38;5;28;01mNone\u001b[39;00m,\n\u001b[0;32m    431\u001b[0m     per_sample_weights: Optional[Tensor] \u001b[38;5;241m=\u001b[39m \u001b[38;5;28;01mNone\u001b[39;00m,\n\u001b[0;32m    432\u001b[0m ) \u001b[38;5;241m-\u001b[39m\u001b[38;5;241m>\u001b[39m Tensor:\n\u001b[0;32m    433\u001b[0m \u001b[38;5;250m    \u001b[39m\u001b[38;5;124;03m\"\"\"Forward pass of EmbeddingBag.\u001b[39;00m\n\u001b[0;32m    434\u001b[0m \n\u001b[0;32m    435\u001b[0m \u001b[38;5;124;03m    Args:\u001b[39;00m\n\u001b[1;32m   (...)\u001b[0m\n\u001b[0;32m    461\u001b[0m \u001b[38;5;124;03m          returned vectors filled by zeros.\u001b[39;00m\n\u001b[0;32m    462\u001b[0m \u001b[38;5;124;03m    \"\"\"\u001b[39;00m\n\u001b[1;32m--> 463\u001b[0m     \u001b[38;5;28;01mreturn\u001b[39;00m \u001b[43mF\u001b[49m\u001b[38;5;241;43m.\u001b[39;49m\u001b[43membedding_bag\u001b[49m\u001b[43m(\u001b[49m\n\u001b[0;32m    464\u001b[0m \u001b[43m        \u001b[49m\u001b[38;5;28;43minput\u001b[39;49m\u001b[43m,\u001b[49m\n\u001b[0;32m    465\u001b[0m \u001b[43m        \u001b[49m\u001b[38;5;28;43mself\u001b[39;49m\u001b[38;5;241;43m.\u001b[39;49m\u001b[43mweight\u001b[49m\u001b[43m,\u001b[49m\n\u001b[0;32m    466\u001b[0m \u001b[43m        \u001b[49m\u001b[43moffsets\u001b[49m\u001b[43m,\u001b[49m\n\u001b[0;32m    467\u001b[0m \u001b[43m        \u001b[49m\u001b[38;5;28;43mself\u001b[39;49m\u001b[38;5;241;43m.\u001b[39;49m\u001b[43mmax_norm\u001b[49m\u001b[43m,\u001b[49m\n\u001b[0;32m    468\u001b[0m \u001b[43m        \u001b[49m\u001b[38;5;28;43mself\u001b[39;49m\u001b[38;5;241;43m.\u001b[39;49m\u001b[43mnorm_type\u001b[49m\u001b[43m,\u001b[49m\n\u001b[0;32m    469\u001b[0m \u001b[43m        \u001b[49m\u001b[38;5;28;43mself\u001b[39;49m\u001b[38;5;241;43m.\u001b[39;49m\u001b[43mscale_grad_by_freq\u001b[49m\u001b[43m,\u001b[49m\n\u001b[0;32m    470\u001b[0m \u001b[43m        \u001b[49m\u001b[38;5;28;43mself\u001b[39;49m\u001b[38;5;241;43m.\u001b[39;49m\u001b[43mmode\u001b[49m\u001b[43m,\u001b[49m\n\u001b[0;32m    471\u001b[0m \u001b[43m        \u001b[49m\u001b[38;5;28;43mself\u001b[39;49m\u001b[38;5;241;43m.\u001b[39;49m\u001b[43msparse\u001b[49m\u001b[43m,\u001b[49m\n\u001b[0;32m    472\u001b[0m \u001b[43m        \u001b[49m\u001b[43mper_sample_weights\u001b[49m\u001b[43m,\u001b[49m\n\u001b[0;32m    473\u001b[0m \u001b[43m        \u001b[49m\u001b[38;5;28;43mself\u001b[39;49m\u001b[38;5;241;43m.\u001b[39;49m\u001b[43minclude_last_offset\u001b[49m\u001b[43m,\u001b[49m\n\u001b[0;32m    474\u001b[0m \u001b[43m        \u001b[49m\u001b[38;5;28;43mself\u001b[39;49m\u001b[38;5;241;43m.\u001b[39;49m\u001b[43mpadding_idx\u001b[49m\u001b[43m,\u001b[49m\n\u001b[0;32m    475\u001b[0m \u001b[43m    \u001b[49m\u001b[43m)\u001b[49m\n",
      "File \u001b[1;32md:\\Person+chess-ai\\.env\\Lib\\site-packages\\torch\\nn\\functional.py:2700\u001b[0m, in \u001b[0;36membedding_bag\u001b[1;34m(input, weight, offsets, max_norm, norm_type, scale_grad_by_freq, mode, sparse, per_sample_weights, include_last_offset, padding_idx)\u001b[0m\n\u001b[0;32m   2698\u001b[0m     \u001b[38;5;28;01mif\u001b[39;00m \u001b[38;5;129;01mnot\u001b[39;00m torch\u001b[38;5;241m.\u001b[39mjit\u001b[38;5;241m.\u001b[39mis_scripting():\n\u001b[0;32m   2699\u001b[0m         type_str \u001b[38;5;241m=\u001b[39m \u001b[38;5;28mstr\u001b[39m(\u001b[38;5;28mtype\u001b[39m(offsets))\n\u001b[1;32m-> 2700\u001b[0m     \u001b[38;5;28;01mraise\u001b[39;00m \u001b[38;5;167;01mValueError\u001b[39;00m(\n\u001b[0;32m   2701\u001b[0m         \u001b[38;5;124m\"\u001b[39m\u001b[38;5;124mif input is 2D, then offsets has to be None\u001b[39m\u001b[38;5;124m\"\u001b[39m\n\u001b[0;32m   2702\u001b[0m         \u001b[38;5;124m\"\u001b[39m\u001b[38;5;124m, as input is treated is a mini-batch of\u001b[39m\u001b[38;5;124m\"\u001b[39m\n\u001b[0;32m   2703\u001b[0m         \u001b[38;5;124m\"\u001b[39m\u001b[38;5;124m fixed length sequences. However, found \u001b[39m\u001b[38;5;124m\"\u001b[39m\n\u001b[0;32m   2704\u001b[0m         \u001b[38;5;124mf\u001b[39m\u001b[38;5;124m\"\u001b[39m\u001b[38;5;124moffsets of type \u001b[39m\u001b[38;5;132;01m{\u001b[39;00mtype_str\u001b[38;5;132;01m}\u001b[39;00m\u001b[38;5;124m\"\u001b[39m\n\u001b[0;32m   2705\u001b[0m     )\n\u001b[0;32m   2706\u001b[0m offsets \u001b[38;5;241m=\u001b[39m torch\u001b[38;5;241m.\u001b[39marange(\n\u001b[0;32m   2707\u001b[0m     \u001b[38;5;241m0\u001b[39m, \u001b[38;5;28minput\u001b[39m\u001b[38;5;241m.\u001b[39mnumel(), \u001b[38;5;28minput\u001b[39m\u001b[38;5;241m.\u001b[39msize(\u001b[38;5;241m1\u001b[39m), dtype\u001b[38;5;241m=\u001b[39m\u001b[38;5;28minput\u001b[39m\u001b[38;5;241m.\u001b[39mdtype, device\u001b[38;5;241m=\u001b[39m\u001b[38;5;28minput\u001b[39m\u001b[38;5;241m.\u001b[39mdevice\n\u001b[0;32m   2708\u001b[0m )\n\u001b[0;32m   2710\u001b[0m \u001b[38;5;28minput\u001b[39m \u001b[38;5;241m=\u001b[39m \u001b[38;5;28minput\u001b[39m\u001b[38;5;241m.\u001b[39mreshape(\u001b[38;5;241m-\u001b[39m\u001b[38;5;241m1\u001b[39m)\n",
      "\u001b[1;31mValueError\u001b[0m: if input is 2D, then offsets has to be None, as input is treated is a mini-batch of fixed length sequences. However, found offsets of type <class 'torch.Tensor'>"
     ]
    }
   ],
   "source": [
    "import torch\n",
    "import torch.nn as nn\n",
    "import chess\n",
    "\n",
    "# Define the NNUE model class (same as in your notebook)\n",
    "class NNUE(nn.Module):\n",
    "    def __init__(self, num_features=768, hidden_size=256, hidden_size2=32, hidden_size3=32):\n",
    "        super(NNUE, self).__init__()\n",
    "        self.embedding = nn.EmbeddingBag(num_features, hidden_size, mode='sum')\n",
    "        self.fc1 = nn.Linear(2 * hidden_size, hidden_size2)\n",
    "        self.fc2 = nn.Linear(hidden_size2, hidden_size3)\n",
    "        self.fc3 = nn.Linear(hidden_size3, 1)\n",
    "    \n",
    "    def forward(self, features_white, offsets_white, features_black, offsets_black, side_to_move):\n",
    "        white_sum = self.embedding(features_white, offsets_white)\n",
    "        black_sum = self.embedding(features_black, offsets_black)\n",
    "        \n",
    "        side_to_move = side_to_move.bool()\n",
    "        us_sum = torch.where(side_to_move[:, None], white_sum, black_sum)\n",
    "        them_sum = torch.where(side_to_move[:, None], black_sum, white_sum)\n",
    "        \n",
    "        input_vector = torch.cat([us_sum, them_sum], dim=1)\n",
    "        x = torch.clamp(self.fc1(input_vector), 0, 1)\n",
    "        x = torch.clamp(self.fc2(x), 0, 1)\n",
    "        output = self.fc3(x)\n",
    "        return output\n",
    "\n",
    "# Feature index calculation\n",
    "def get_feature_index(color, piece_type, square):\n",
    "    return (color * 6 + piece_type) * 64 + square\n",
    "\n",
    "# Preprocess FEN to sparse features\n",
    "def preprocess_position(fen):\n",
    "    board = chess.Board(fen)\n",
    "    features = []\n",
    "    \n",
    "    for square in chess.SQUARES:\n",
    "        piece = board.piece_at(square)\n",
    "        if piece is not None:\n",
    "            color = 0 if piece.color == chess.WHITE else 1\n",
    "            piece_type = piece.piece_type - 1  # Map 1-6 (pawn-king) to 0-5\n",
    "            feature_index = get_feature_index(color, piece_type, square)\n",
    "            features.append(feature_index)\n",
    "    \n",
    "    features_white = [f for f in features if f < 384]\n",
    "    features_black = [f for f in features if f >= 384]\n",
    "    side_to_move = 1 if board.turn == chess.WHITE else 0\n",
    "    \n",
    "    return features_white, features_black, side_to_move\n",
    "\n",
    "# Load the saved model\n",
    "model = NNUE()\n",
    "model.load_state_dict(torch.load('./checkpoint/nnue_2_512bs_2000epochs.pth', weights_only=True))\n",
    "model.eval()\n",
    "\n",
    "# Example FEN (starting position)\n",
    "example_fen = \"rnbqkbnr/pppppppp/5n2/8/8/5N2/PPPPPPPP/RNBQKB1R w KQkq - 0 1\"\n",
    "print(f\"Evaluating position: {example_fen}\")\n",
    "\n",
    "# Preprocess the FEN\n",
    "features_white, features_black, side_to_move = preprocess_position(example_fen)\n",
    "def collate_fn(batch):\n",
    "    \"\"\"Collate function to process batches with variable-length feature lists.\n",
    "    \n",
    "    Args:\n",
    "        batch: List of (features_white, features_black, side_to_move, target) tuples.\n",
    "    \n",
    "    Returns:\n",
    "        tuple: Tensors for white features, white offsets, black features, black offsets,\n",
    "               side to move, and targets.\n",
    "    \"\"\"\n",
    "    features_white, features_black, side_to_move, targets = [], [], [], []\n",
    "    for fw, fb, stm, t in batch:\n",
    "        features_white.extend(fw)\n",
    "        features_black.extend(fb)\n",
    "        side_to_move.append(stm)\n",
    "        targets.append(t)\n",
    "    \n",
    "    # Convert lists to tensors\n",
    "    fw_tensor = torch.tensor(features_white, dtype=torch.long)\n",
    "    fb_tensor = torch.tensor(features_black, dtype=torch.long)\n",
    "    offsets_white = torch.tensor([0] + [len(fw) for fw, _, _, _ in batch[:-1]], dtype=torch.long).cumsum(0)\n",
    "    offsets_black = torch.tensor([0] + [len(fb) for _, fb, _, _ in batch[:-1]], dtype=torch.long).cumsum(0)\n",
    "    stm_tensor = torch.tensor(side_to_move, dtype=torch.long)\n",
    "    target_tensor = torch.tensor(targets, dtype=torch.float)\n",
    "    \n",
    "    return fw_tensor, offsets_white, fb_tensor, offsets_black, stm_tensor, target_tensor\n",
    "\n",
    "# Convert to tensors (batch size of 1)\n",
    "fw_tensor = torch.tensor(features_white, dtype=torch.long).unsqueeze(0)  # Add batch dimension\n",
    "fb_tensor = torch.tensor(features_black, dtype=torch.long).unsqueeze(0)\n",
    "offsets_white = torch.tensor([0]+[17], dtype=torch.long)  # Single position, offset is 0\n",
    "offsets_black = torch.tensor([0]+[18], dtype=torch.long)\n",
    "stm_tensor = torch.tensor([side_to_move], dtype=torch.long)\n",
    "\n",
    "# Run the model\n",
    "with torch.no_grad():\n",
    "    output = model(fw_tensor, offsets_white, fb_tensor, offsets_black, stm_tensor)\n",
    "\n",
    "# Print the result\n",
    "evaluation = output.item()\n",
    "print(f\"Model evaluation: {evaluation:.4f}\")\n",
    "\n",
    "# Interpret the result\n",
    "if evaluation > 0:\n",
    "    print(\"Positive score indicates an advantage for White.\")\n",
    "elif evaluation < 0:\n",
    "    print(\"Negative score indicates an advantage for Black.\")\n",
    "else:\n",
    "    print(\"Score of 0 indicates a balanced position.\")\n"
   ]
  },
  {
   "cell_type": "markdown",
   "metadata": {},
   "source": [
    "## 10. TensorBoard Visualization\n",
    "\n",
    "You can visualize the training progress using TensorBoard."
   ]
  },
  {
   "cell_type": "code",
   "execution_count": 15,
   "metadata": {
    "trusted": true
   },
   "outputs": [],
   "source": [
    "# # Load TensorBoard extension and display logs\n",
    "# %load_ext tensorboard\n",
    "# %tensorboard --logdir runs --port 8001"
   ]
  }
 ],
 "metadata": {
  "kaggle": {
   "accelerator": "none",
   "dataSources": [
    {
     "databundleVersionId": 7489487,
     "sourceId": 67474,
     "sourceType": "competition"
    }
   ],
   "dockerImageVersionId": 30918,
   "isGpuEnabled": false,
   "isInternetEnabled": true,
   "language": "python",
   "sourceType": "notebook"
  },
  "kernelspec": {
   "display_name": ".env",
   "language": "python",
   "name": "python3"
  },
  "language_info": {
   "codemirror_mode": {
    "name": "ipython",
    "version": 3
   },
   "file_extension": ".py",
   "mimetype": "text/x-python",
   "name": "python",
   "nbconvert_exporter": "python",
   "pygments_lexer": "ipython3",
   "version": "3.11.0"
  }
 },
 "nbformat": 4,
 "nbformat_minor": 4
}
