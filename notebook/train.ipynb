{
 "cells": [
  {
   "cell_type": "markdown",
   "metadata": {},
   "source": [
    "# Chess Engine with PyTorch"
   ]
  },
  {
   "cell_type": "markdown",
   "metadata": {},
   "source": [
    "## Imports"
   ]
  },
  {
   "cell_type": "code",
   "execution_count": 1,
   "metadata": {},
   "outputs": [],
   "source": [
    "import os\n",
    "import numpy as np # type: ignore\n",
    "import time\n",
    "import torch\n",
    "import torch.nn as nn # type: ignore\n",
    "import torch.optim as optim # type: ignore\n",
    "from torch.utils.data import DataLoader # type: ignore\n",
    "from chess import pgn # type: ignore\n",
    "from tqdm import tqdm # type: ignore"
   ]
  },
  {
   "cell_type": "markdown",
   "metadata": {},
   "source": [
    "## Data preprocessing"
   ]
  },
  {
   "cell_type": "markdown",
   "metadata": {},
   "source": [
    "### 1. Load data"
   ]
  },
  {
   "cell_type": "code",
   "execution_count": 4,
   "metadata": {},
   "outputs": [
    {
     "name": "stderr",
     "output_type": "stream",
     "text": [
      " 34%|███▍      | 27/79 [01:19<02:33,  2.96s/it]\n"
     ]
    }
   ],
   "source": [
    "def load_pgn(file_path):\n",
    "    games = []\n",
    "    with open(file_path, 'r') as pgn_file:\n",
    "        while True:\n",
    "            game = pgn.read_game(pgn_file)\n",
    "            if game is None:\n",
    "                break\n",
    "            games.append(game)\n",
    "    return games\n",
    "\n",
    "files = [file for file in os.listdir(\"../chess-data/pgn/Lichess Elite Database\") if file.endswith(\".pgn\")]\n",
    "LIMIT_OF_FILES = min(len(files), 28)\n",
    "games = []\n",
    "i = 1\n",
    "for file in tqdm(files):\n",
    "    games.extend(load_pgn(f\"../chess-data/pgn/Lichess Elite Database/{file}\"))\n",
    "    if i >= LIMIT_OF_FILES:\n",
    "        break\n",
    "    i += 1"
   ]
  },
  {
   "cell_type": "code",
   "execution_count": 5,
   "metadata": {},
   "outputs": [
    {
     "name": "stdout",
     "output_type": "stream",
     "text": [
      "GAMES PARSED: 41570\n"
     ]
    }
   ],
   "source": [
    "print(f\"GAMES PARSED: {len(games)}\")"
   ]
  },
  {
   "cell_type": "code",
   "execution_count": 6,
   "metadata": {},
   "outputs": [],
   "source": [
    "import numpy as np\n",
    "from chess import Board\n",
    "\n",
    "\n",
    "def board_to_matrix(board: Board):\n",
    "    # 8x8 is a size of the chess board.\n",
    "    # 12 = number of unique pieces.\n",
    "    # 13th board for legal moves (WHERE we can move)\n",
    "    # maybe 14th for squares FROM WHICH we can move? idk\n",
    "    matrix = np.zeros((13, 8, 8))\n",
    "    piece_map = board.piece_map()\n",
    "\n",
    "    # Populate first 12 8x8 boards (where pieces are)\n",
    "    for square, piece in piece_map.items():\n",
    "        row, col = divmod(square, 8)\n",
    "        piece_type = piece.piece_type - 1\n",
    "        piece_color = 0 if piece.color else 6\n",
    "        matrix[piece_type + piece_color, row, col] = 1\n",
    "\n",
    "    # Populate the legal moves board (13th 8x8 board)\n",
    "    legal_moves = board.legal_moves\n",
    "    for move in legal_moves:\n",
    "        to_square = move.to_square\n",
    "        row_to, col_to = divmod(to_square, 8)\n",
    "        matrix[12, row_to, col_to] = 1\n",
    "\n",
    "    return matrix\n",
    "\n",
    "\n",
    "def create_input_for_nn(games):\n",
    "    X = []\n",
    "    y = []\n",
    "    for game in games:\n",
    "        board = game.board()\n",
    "        for move in game.mainline_moves():\n",
    "            X.append(board_to_matrix(board))\n",
    "            y.append(move.uci())\n",
    "            board.push(move)\n",
    "    return np.array(X, dtype=np.float32), np.array(y)\n",
    "\n",
    "\n",
    "def encode_moves(moves):\n",
    "    move_to_int = {move: idx for idx, move in enumerate(set(moves))}\n",
    "    return np.array([move_to_int[move] for move in moves], dtype=np.float32), move_to_int\n"
   ]
  },
  {
   "cell_type": "code",
   "execution_count": null,
   "metadata": {},
   "outputs": [],
   "source": [
    "X, y = create_input_for_nn(games)\n",
    "\n",
    "print(f\"NUMBER OF SAMPLES: {len(y)}\")"
   ]
  }
 ],
 "metadata": {
  "kernelspec": {
   "display_name": ".env",
   "language": "python",
   "name": "python3"
  },
  "language_info": {
   "codemirror_mode": {
    "name": "ipython",
    "version": 3
   },
   "file_extension": ".py",
   "mimetype": "text/x-python",
   "name": "python",
   "nbconvert_exporter": "python",
   "pygments_lexer": "ipython3",
   "version": "3.11.0"
  }
 },
 "nbformat": 4,
 "nbformat_minor": 2
}
